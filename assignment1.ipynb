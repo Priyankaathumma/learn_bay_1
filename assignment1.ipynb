{
 "cells": [
  {
   "cell_type": "markdown",
   "id": "cd78254a",
   "metadata": {},
   "source": [
    "# Basic Assignment.txt\n",
    "\n",
    "1. WAP to take 10 numbers from a user and store them in a list.\n",
    "\n",
    "2. Display numbers divisible by 5 from a list.\n",
    "\n",
    "3. WAP to calculate the count of elements in a string taken as input from the user.\n",
    "\n",
    "4. WAP to check if a number is even or odd where number is taken as input.\n",
    "\n",
    "5. WAP to reverse a string taken as input from the user.\n",
    "\n",
    "6. WAP to reverse all the strings present in a list and save them in a new list.\n",
    "\n",
    "7. Print characters from a string that are present at an even index number\n",
    "\n",
    "8. Check if the first and last number of a list is the same\n",
    "\n",
    "9. Calculate income tax for the input income by adhering to the Indian rules.\n",
    "\n",
    "10. Write a Python program to check whether a string starts with vowel or not.\n",
    "\n",
    "11. Write a Python program to check if all the characters of a string are vowel or not.\n",
    "\n",
    "12. WAP to calculate percentage of a student through 5 subjects. Take marks as input from the user.\n",
    "\n",
    "13. WAP to convert '95.3' taken as input from the user into float value.\n",
    "\n",
    "14. WAP to count the number of zeroes present in a number taken as input from the user.\n",
    "\n",
    "15. WAP to calculate the surface area of a triangle. Take the required values as input.\n",
    "\n",
    "16. WAP to concatenate two lists index-wise and save the result in a 3rd list.\n",
    "\n",
    "17. WAP to convert two lists into a dictionary. Take the elements from first list as keys\n",
    "and elements from second list as values.\n",
    "\n",
    "18. Input and store the marks of 10 students in a list. Print max and min marks.\n",
    "\n",
    "19. WAP to save the username and password of 10 users in a dictionary.\n",
    "\n",
    "20. Write a Python program to find the sum of the first n positive integers. Take n as input from the user.\n",
    "\n",
    "\n",
    "\n",
    "\n",
    "\n"
   ]
  },
  {
   "cell_type": "code",
   "execution_count": 1,
   "id": "33091164",
   "metadata": {},
   "outputs": [
    {
     "name": "stdout",
     "output_type": "stream",
     "text": [
      "3\n",
      "67\n",
      "890\n",
      "456\n",
      "678\n",
      "123\n",
      "456\n",
      "789\n",
      "345\n",
      "234\n",
      "[3, 67, 890, 456, 678, 123, 456, 789, 345, 234]\n"
     ]
    }
   ],
   "source": [
    "#1\n",
    "l=[]\n",
    "for i in range(0,10):\n",
    "    m=int(input())\n",
    "    l.append(m)\n",
    "print(l)\n"
   ]
  },
  {
   "cell_type": "code",
   "execution_count": 2,
   "id": "e0dba46b",
   "metadata": {},
   "outputs": [
    {
     "name": "stdout",
     "output_type": "stream",
     "text": [
      "560\n",
      "345\n",
      "780\n",
      "346\n",
      "234\n",
      "765\n",
      "123\n",
      "6\n",
      "1245\n",
      "764\n",
      "[560, 345, 780, 765, 1245]\n"
     ]
    }
   ],
   "source": [
    "#2\n",
    "l=[]\n",
    "for i in range(0,10):\n",
    "    m=int(input())\n",
    "    if(m%5==0):\n",
    "        l.append(m)\n",
    "print(l)\n"
   ]
  },
  {
   "cell_type": "code",
   "execution_count": 10,
   "id": "3ad23b2a",
   "metadata": {},
   "outputs": [
    {
     "name": "stdout",
     "output_type": "stream",
     "text": [
      "hello how are you))\n",
      "19\n"
     ]
    }
   ],
   "source": [
    "#3\n",
    "s=input()\n",
    "count=0\n",
    "for i in s:\n",
    "    count+=1\n",
    "print(count)\n"
   ]
  },
  {
   "cell_type": "code",
   "execution_count": 35,
   "id": "7ea922e1",
   "metadata": {},
   "outputs": [
    {
     "name": "stdout",
     "output_type": "stream",
     "text": [
      "2\n",
      "even\n",
      "3\n",
      "odd\n",
      "4\n",
      "even\n",
      "2\n",
      "even\n",
      "4\n",
      "even\n",
      "-1\n"
     ]
    }
   ],
   "source": [
    "#4\n",
    "i=0\n",
    "while(i!=-1):\n",
    "    i=int(input())\n",
    "    if(i!=-1):\n",
    "        if(i%2==0):\n",
    "            print(\"even\")\n",
    "        else:\n",
    "            print(\"odd\")"
   ]
  },
  {
   "cell_type": "code",
   "execution_count": 34,
   "id": "4e6d7297",
   "metadata": {},
   "outputs": [
    {
     "name": "stdout",
     "output_type": "stream",
     "text": [
      "hello how are you\n",
      "uoy era woh olle"
     ]
    }
   ],
   "source": [
    "#5\n",
    "s=input()\n",
    "for i in range(1,len(s)):\n",
    "    print(s[-i],end=\"\")\n",
    "#print(s[::-1])"
   ]
  },
  {
   "cell_type": "code",
   "execution_count": 61,
   "id": "2b4f9a72",
   "metadata": {},
   "outputs": [
    {
     "name": "stdout",
     "output_type": "stream",
     "text": [
      "hello \n",
      "how are you\n",
      "1234\n",
      "678\n",
      "0\n",
      "[' olleh', 'uoy era woh', '4321', '876', '0']\n"
     ]
    }
   ],
   "source": [
    "#6\n",
    "l=[]\n",
    "i=\"\"\n",
    "while(i!=\"0\"):\n",
    "    i=input()\n",
    "    l.append(i)\n",
    "m=[]\n",
    "for k in l:\n",
    "    m.append(k[::-1])\n",
    "print(m)"
   ]
  },
  {
   "cell_type": "code",
   "execution_count": 66,
   "id": "4a4d8b7e",
   "metadata": {},
   "outputs": [
    {
     "name": "stdout",
     "output_type": "stream",
     "text": [
      "hello world its a new game !\n",
      "hlowrdisanwgm "
     ]
    }
   ],
   "source": [
    "#7\n",
    "s=input()\n",
    "for i in range(len(s)):\n",
    "    if(i%2==0):\n",
    "        print(s[i],end=\"\")"
   ]
  },
  {
   "cell_type": "code",
   "execution_count": 69,
   "id": "6540ad14",
   "metadata": {},
   "outputs": [
    {
     "name": "stdout",
     "output_type": "stream",
     "text": [
      "56\n",
      "56\n",
      "78\n",
      "89\n",
      "23\n",
      "-1\n",
      "they are not same\n"
     ]
    }
   ],
   "source": [
    "#8\n",
    "l=[]\n",
    "i=0\n",
    "while(i!=-1):\n",
    "    i=int(input())\n",
    "    if(i!=-1):\n",
    "        l.append(i)\n",
    "if(l[0]==l[-1]):\n",
    "    print(\"the first and last characters are same\")\n",
    "else:\n",
    "    print(\"they are not same\")"
   ]
  },
  {
   "cell_type": "code",
   "execution_count": 75,
   "id": "ea623ee5",
   "metadata": {},
   "outputs": [
    {
     "name": "stdout",
     "output_type": "stream",
     "text": [
      "4500000\n",
      "192204.0\n"
     ]
    }
   ],
   "source": [
    "#9\n",
    "income=int(input())\n",
    "if(income>=250000 and income<=499999):\n",
    "    tax=12500\n",
    "    cess=12500*0.04\n",
    "    total_tax=tax+cess\n",
    "    print(total_tax)\n",
    "elif(income>=500000 and income<=649999):\n",
    "    tax=25000\n",
    "    cess=(12500*0.04)+(25000*0.04)\n",
    "    total_tax=tax+cess\n",
    "    print(total_tax)\n",
    "elif(income>=750000 and income<=999999):\n",
    "    tax=37500\n",
    "    cess=(12500*0.04)+(25000*0.04)+(37500*0.04)\n",
    "    total_tax=tax+cess\n",
    "    print(total_tax)\n",
    "elif(income>=1000000 and income<=1149999):\n",
    "    tax=50000\n",
    "    cess=(12500*0.04)+(25000*0.04)+(37500*0.04)+(50000*0.04)\n",
    "    total_tax=tax+cess\n",
    "    print(total_tax)\n",
    "elif(income>=1250000 and income<=1500000):\n",
    "    tax=62500\n",
    "    cess=(12500*0.04)+(25000*0.04)+(37500*0.04)+(50000*0.04)+(62500*0.04)\n",
    "    total_tax=tax+cess\n",
    "    print(total_tax)  \n",
    "elif(income>1500000):\n",
    "    tax=177600\n",
    "    cess=(12500*0.04)+(25000*0.04)+(37500*0.04)+(50000*0.04)+(62500*0.04)+(177600*0.04)\n",
    "    total_tax=tax+cess\n",
    "    print(total_tax) \n",
    "else:\n",
    "    print(\"Exempt from Tax\")"
   ]
  },
  {
   "cell_type": "code",
   "execution_count": 83,
   "id": "fb175501",
   "metadata": {},
   "outputs": [
    {
     "name": "stdout",
     "output_type": "stream",
     "text": [
      "fruit\n",
      "string starts with consonant\n"
     ]
    }
   ],
   "source": [
    "#10\n",
    "s=input().lower()\n",
    "l=[\"a\",\"e\",\"i\",\"o\",\"u\"]\n",
    "if s[0] in l:\n",
    "    print(\"string starts with vowel\")\n",
    "else:\n",
    "    print(\"string starts with consonant\")"
   ]
  },
  {
   "cell_type": "code",
   "execution_count": 87,
   "id": "095e3069",
   "metadata": {},
   "outputs": [
    {
     "name": "stdout",
     "output_type": "stream",
     "text": [
      "happy\n",
      "characters of a string are consonant\n"
     ]
    }
   ],
   "source": [
    "#11\n",
    "s=input().lower()\n",
    "l=[\"a\",\"e\",\"i\",\"o\",\"u\"]\n",
    "count=0\n",
    "for i in range(len(s)):\n",
    "    if s[i] not in l:\n",
    "        count+=1\n",
    "if(count>=1):\n",
    "    print(\"characters of a string are consonant\")\n",
    "else:\n",
    "    print(\"characters of a string are vowel \")\n",
    "        \n",
    "       "
   ]
  },
  {
   "cell_type": "code",
   "execution_count": 91,
   "id": "a7e27315",
   "metadata": {},
   "outputs": [
    {
     "name": "stdout",
     "output_type": "stream",
     "text": [
      "5\n",
      "40\n",
      "50\n",
      "60\n",
      "70\n",
      "80\n",
      "60.0\n"
     ]
    }
   ],
   "source": [
    "n=int(input())#for no of subjects\n",
    "l=[]\n",
    "for i in range(n):\n",
    "    m=int(input())\n",
    "    l.append(m)\n",
    "add=0\n",
    "for x in range(len(l)):\n",
    "    add=add+l[x]\n",
    "avg=add/n\n",
    "print(avg)\n",
    "    \n"
   ]
  },
  {
   "cell_type": "code",
   "execution_count": 94,
   "id": "7b78845d",
   "metadata": {},
   "outputs": [
    {
     "name": "stdout",
     "output_type": "stream",
     "text": [
      "<class 'float'>\n"
     ]
    }
   ],
   "source": [
    "#13\n",
    "i=95.3\n",
    "print(type(float(i)))"
   ]
  },
  {
   "cell_type": "code",
   "execution_count": 101,
   "id": "489ec084",
   "metadata": {},
   "outputs": [
    {
     "name": "stdout",
     "output_type": "stream",
     "text": [
      "4500780034\n",
      "4\n"
     ]
    }
   ],
   "source": [
    "#14\n",
    "k=int(input())\n",
    "count=0\n",
    "while(k!=0):\n",
    "    if(k%10==0):\n",
    "        count+=1\n",
    "    k=k//10\n",
    "    \n",
    "print(count)\n",
    "    \n",
    "    "
   ]
  },
  {
   "cell_type": "code",
   "execution_count": 103,
   "id": "4b0ac114",
   "metadata": {},
   "outputs": [
    {
     "name": "stdout",
     "output_type": "stream",
     "text": [
      "2\n",
      "3\n",
      "4\n",
      "12.0\n"
     ]
    }
   ],
   "source": [
    "#15\n",
    "l=float(input())\n",
    "b=float(input())\n",
    "h=float(input())\n",
    "area=0.5*l*b*h\n",
    "print(area)"
   ]
  },
  {
   "cell_type": "code",
   "execution_count": 113,
   "id": "ec6afe97",
   "metadata": {},
   "outputs": [
    {
     "name": "stdout",
     "output_type": "stream",
     "text": [
      "[8, 10, 12, 14, 16, 18]\n"
     ]
    }
   ],
   "source": [
    "#16\n",
    "l1=[1,2,3,4,5,6]\n",
    "l2=[7,8,9,10,11,12]\n",
    "l3=[]\n",
    "for i in range(len(l1)):\n",
    "    for j in range(len(l2)):\n",
    "        if(i==j):\n",
    "            k=l1[i]+l2[j]\n",
    "            l3.append(k)\n",
    "print(l3)"
   ]
  },
  {
   "cell_type": "code",
   "execution_count": 118,
   "id": "618b53c3",
   "metadata": {},
   "outputs": [
    {
     "name": "stdout",
     "output_type": "stream",
     "text": [
      "{1: 'hello', 2: 'hi', 3: 'what', 4: 'range', 5: '!!!!'}\n"
     ]
    }
   ],
   "source": [
    "#17\n",
    "l1=[1,2,3,4,5]\n",
    "l2=[\"hello\",\"hi\",\"what\",\"range\",\"!!!!\"]\n",
    "dic={l1:l2 for l1 ,l2 in zip(l1,l2)}\n",
    "print(dic)"
   ]
  },
  {
   "cell_type": "code",
   "execution_count": 119,
   "id": "0dd0156f",
   "metadata": {},
   "outputs": [
    {
     "name": "stdout",
     "output_type": "stream",
     "text": [
      "10\n",
      "23\n",
      "45\n",
      "67\n",
      "89\n",
      "46\n",
      "90\n",
      "34\n",
      "66\n",
      "77\n",
      "88\n",
      "min= 23\n",
      "max= 90\n"
     ]
    }
   ],
   "source": [
    "#18\n",
    "n=int(input())\n",
    "l=[]\n",
    "for i in range(n):\n",
    "    k=int(input())\n",
    "    l.append(k)\n",
    "l.sort()\n",
    "print(\"min=\",l[0])\n",
    "print(\"max=\",l[-1])"
   ]
  },
  {
   "cell_type": "code",
   "execution_count": 127,
   "id": "c84d7492",
   "metadata": {},
   "outputs": [
    {
     "name": "stdout",
     "output_type": "stream",
     "text": [
      "rithi\n",
      "123@r\n",
      "priya\n",
      "56@p\n",
      "aneesh\n",
      "1245@an\n",
      "amith\n",
      "123@am\n",
      "-1\n",
      "-1\n",
      "{'rithi': '123@r', 'priya': '56@p', 'aneesh': '1245@an', 'amith': '123@am'}\n"
     ]
    }
   ],
   "source": [
    "#19\n",
    "l1=[]\n",
    "l2=[]\n",
    "i=\"\"\n",
    "while(i!=\"-1\"):\n",
    "    i=input()\n",
    "    n=input()\n",
    "    if(i!=\"-1\" and n!=\"-1\"):\n",
    "        l1.append(i)\n",
    "        l2.append(n)\n",
    "dic={l1:l2 for l1,l2 in zip(l1,l2)}\n",
    "print(dic)"
   ]
  },
  {
   "cell_type": "code",
   "execution_count": 128,
   "id": "6c1951e6",
   "metadata": {},
   "outputs": [
    {
     "name": "stdout",
     "output_type": "stream",
     "text": [
      "10\n",
      "45\n"
     ]
    }
   ],
   "source": [
    "#20\n",
    "n=int(input())\n",
    "add=0\n",
    "for i in range(n):\n",
    "    add=add+i\n",
    "print(add)"
   ]
  },
  {
   "cell_type": "code",
   "execution_count": null,
   "id": "f3bcaf13",
   "metadata": {},
   "outputs": [],
   "source": []
  }
 ],
 "metadata": {
  "kernelspec": {
   "display_name": "Python 3 (ipykernel)",
   "language": "python",
   "name": "python3"
  },
  "language_info": {
   "codemirror_mode": {
    "name": "ipython",
    "version": 3
   },
   "file_extension": ".py",
   "mimetype": "text/x-python",
   "name": "python",
   "nbconvert_exporter": "python",
   "pygments_lexer": "ipython3",
   "version": "3.10.5"
  }
 },
 "nbformat": 4,
 "nbformat_minor": 5
}
